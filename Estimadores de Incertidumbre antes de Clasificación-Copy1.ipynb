{
 "cells": [
  {
   "cell_type": "code",
   "execution_count": 8,
   "metadata": {},
   "outputs": [],
   "source": [
    "from sklearn.datasets import load_iris\n",
    "from sklearn.model_selection import train_test_split\n",
    "from sklearn import svm #algoritmos support vector machine traza un hiperplano para segmentar la data"
   ]
  },
  {
   "cell_type": "code",
   "execution_count": 9,
   "metadata": {},
   "outputs": [],
   "source": [
    "iris=load_iris() # se carga el set de datos a la variable iris"
   ]
  },
  {
   "cell_type": "code",
   "execution_count": 10,
   "metadata": {},
   "outputs": [],
   "source": [
    "Xe,Xt,ye,yt=train_test_split(iris.data, iris.target) #se divide la data en entreamiento y tetin"
   ]
  },
  {
   "cell_type": "code",
   "execution_count": 11,
   "metadata": {},
   "outputs": [],
   "source": [
    "algoritmo=svm.SVC(probability=True) #se cargar el algoritmo svm a la variable algoritmo"
   ]
  },
  {
   "cell_type": "code",
   "execution_count": 12,
   "metadata": {},
   "outputs": [
    {
     "name": "stderr",
     "output_type": "stream",
     "text": [
      "C:\\Users\\SOATEC\\Anaconda3\\lib\\site-packages\\sklearn\\svm\\base.py:196: FutureWarning: The default value of gamma will change from 'auto' to 'scale' in version 0.22 to account better for unscaled features. Set gamma explicitly to 'auto' or 'scale' to avoid this warning.\n",
      "  \"avoid this warning.\", FutureWarning)\n"
     ]
    },
    {
     "data": {
      "text/plain": [
       "SVC(C=1.0, cache_size=200, class_weight=None, coef0=0.0,\n",
       "  decision_function_shape='ovr', degree=3, gamma='auto_deprecated',\n",
       "  kernel='rbf', max_iter=-1, probability=True, random_state=None,\n",
       "  shrinking=True, tol=0.001, verbose=False)"
      ]
     },
     "execution_count": 12,
     "metadata": {},
     "output_type": "execute_result"
    }
   ],
   "source": [
    "algoritmo.fit(Xe,ye)"
   ]
  },
  {
   "cell_type": "code",
   "execution_count": 13,
   "metadata": {},
   "outputs": [
    {
     "data": {
      "text/plain": [
       "array([[ 2.36343266,  0.81738003, -0.18081269],\n",
       "       [-0.25764227,  0.75764227,  2.5       ],\n",
       "       [-0.3332569 ,  2.27759494,  1.05566197],\n",
       "       [ 2.36596474,  0.82897164, -0.19493637],\n",
       "       [-0.33901804,  1.02042135,  2.31859669],\n",
       "       [-0.33427546,  0.99801992,  2.33625554],\n",
       "       [ 2.40481756,  0.80812423, -0.21294179],\n",
       "       [-0.32366987,  2.41436522,  0.90930466],\n",
       "       [ 2.35943607,  0.86224812, -0.22168419],\n",
       "       [ 2.38983034,  0.82033917, -0.21016951]])"
      ]
     },
     "execution_count": 13,
     "metadata": {},
     "output_type": "execute_result"
    }
   ],
   "source": [
    "algoritmo.decision_function_shape = \"ovr\" #funciones para estimar la incertidumbre\n",
    "algoritmo.decision_function(Xt)[:10] # decision function dice que tan lejos esta el numero q clasifica, trae 10 ejemplos "
   ]
  },
  {
   "cell_type": "code",
   "execution_count": 16,
   "metadata": {},
   "outputs": [
    {
     "data": {
      "text/plain": [
       "array([[0.94606187, 0.0256901 , 0.02824803],\n",
       "       [0.01960114, 0.00368781, 0.97671105],\n",
       "       [0.01373066, 0.82076681, 0.16550253],\n",
       "       [0.94706539, 0.02676879, 0.02616581],\n",
       "       [0.01226675, 0.051694  , 0.93603925],\n",
       "       [0.01231929, 0.03755597, 0.95012474],\n",
       "       [0.96341352, 0.01772448, 0.018862  ],\n",
       "       [0.01236776, 0.97008862, 0.01754362],\n",
       "       [0.94461882, 0.03072115, 0.02466003],\n",
       "       [0.95775171, 0.02050961, 0.02173867]])"
      ]
     },
     "execution_count": 16,
     "metadata": {},
     "output_type": "execute_result"
    }
   ],
   "source": [
    "algoritmo.predict_proba(Xt)[:10] # da el resultado en probabilidades, cada fila suma el 100%"
   ]
  },
  {
   "cell_type": "code",
   "execution_count": 15,
   "metadata": {},
   "outputs": [
    {
     "data": {
      "text/plain": [
       "array([0, 2, 1, 0, 2, 2, 0, 1, 0, 0])"
      ]
     },
     "execution_count": 15,
     "metadata": {},
     "output_type": "execute_result"
    }
   ],
   "source": [
    "algoritmo.predict(Xt)[:10] # algoritmo predict para ver como va a predecir, primeros 10 elementos"
   ]
  },
  {
   "cell_type": "code",
   "execution_count": null,
   "metadata": {},
   "outputs": [],
   "source": []
  }
 ],
 "metadata": {
  "kernelspec": {
   "display_name": "Python 3",
   "language": "python",
   "name": "python3"
  },
  "language_info": {
   "codemirror_mode": {
    "name": "ipython",
    "version": 3
   },
   "file_extension": ".py",
   "mimetype": "text/x-python",
   "name": "python",
   "nbconvert_exporter": "python",
   "pygments_lexer": "ipython3",
   "version": "3.7.3"
  }
 },
 "nbformat": 4,
 "nbformat_minor": 2
}
