{
 "cells": [
  {
   "cell_type": "code",
   "execution_count": 3,
   "metadata": {},
   "outputs": [],
   "source": [
    "from sklearn.datasets import load_iris\n",
    "from sklearn.model_selection import train_test_split\n",
    "from sklearn import svm #algoritmos support vector machine traza un hiperplano para segmentar la data"
   ]
  },
  {
   "cell_type": "code",
   "execution_count": 4,
   "metadata": {},
   "outputs": [],
   "source": [
    "iris=load_iris() # se carga el set de datos a la variable iris"
   ]
  },
  {
   "cell_type": "code",
   "execution_count": 5,
   "metadata": {},
   "outputs": [],
   "source": [
    "Xe,Xt,ye,yt=train_test_split(iris.data, iris.target) #se divide la data en entreamiento y tetin"
   ]
  },
  {
   "cell_type": "code",
   "execution_count": 6,
   "metadata": {},
   "outputs": [],
   "source": [
    "algoritmo=svm.SVC(probability=True) #se cargar el algoritmo svm a la variable algoritmo"
   ]
  },
  {
   "cell_type": "code",
   "execution_count": 7,
   "metadata": {},
   "outputs": [
    {
     "name": "stderr",
     "output_type": "stream",
     "text": [
      "C:\\Users\\SOATEC\\Anaconda3\\lib\\site-packages\\sklearn\\svm\\base.py:196: FutureWarning: The default value of gamma will change from 'auto' to 'scale' in version 0.22 to account better for unscaled features. Set gamma explicitly to 'auto' or 'scale' to avoid this warning.\n",
      "  \"avoid this warning.\", FutureWarning)\n"
     ]
    },
    {
     "data": {
      "text/plain": [
       "SVC(C=1.0, cache_size=200, class_weight=None, coef0=0.0,\n",
       "  decision_function_shape='ovr', degree=3, gamma='auto_deprecated',\n",
       "  kernel='rbf', max_iter=-1, probability=True, random_state=None,\n",
       "  shrinking=True, tol=0.001, verbose=False)"
      ]
     },
     "execution_count": 7,
     "metadata": {},
     "output_type": "execute_result"
    }
   ],
   "source": [
    "algoritmo.fit(Xe,ye)"
   ]
  },
  {
   "cell_type": "code",
   "execution_count": 8,
   "metadata": {},
   "outputs": [
    {
     "data": {
      "text/plain": [
       "array([[-0.34403725,  2.31002843,  1.03400882],\n",
       "       [-0.28315795,  2.44269338,  0.84046457],\n",
       "       [ 2.37617331,  0.8232025 , -0.19937581],\n",
       "       [-0.31970979,  2.46271584,  0.85699395],\n",
       "       [-0.17854755,  2.32159203,  0.85695552],\n",
       "       [ 2.37492193, -0.19387467,  0.81895275],\n",
       "       [ 2.3654091 ,  0.8212592 , -0.1866683 ],\n",
       "       [-0.33330732,  2.35238862,  0.9809187 ],\n",
       "       [ 2.34582979, -0.182546  ,  0.83671621],\n",
       "       [ 2.32935046,  0.86955152, -0.19890198]])"
      ]
     },
     "execution_count": 8,
     "metadata": {},
     "output_type": "execute_result"
    }
   ],
   "source": [
    "algoritmo.decision_function_shape = \"ovr\" #funciones para estimar la incertidumbre\n",
    "algoritmo.decision_function(Xt)[:10] # decision function dice que tan lejos esta el numero q clasifica, trae 10 ejemplos "
   ]
  },
  {
   "cell_type": "code",
   "execution_count": 9,
   "metadata": {},
   "outputs": [
    {
     "data": {
      "text/plain": [
       "array([[0.01150086, 0.91932729, 0.06917185],\n",
       "       [0.01072136, 0.98165115, 0.00762748],\n",
       "       [0.95790836, 0.02278159, 0.01931005],\n",
       "       [0.01121052, 0.98441534, 0.00437414],\n",
       "       [0.03313586, 0.93315159, 0.03371255],\n",
       "       [0.9568741 , 0.02159987, 0.02152603],\n",
       "       [0.95296613, 0.02433215, 0.02270172],\n",
       "       [0.01089286, 0.95469921, 0.03440793],\n",
       "       [0.94267822, 0.02862135, 0.02870042],\n",
       "       [0.9340307 , 0.04013011, 0.02583919]])"
      ]
     },
     "execution_count": 9,
     "metadata": {},
     "output_type": "execute_result"
    }
   ],
   "source": [
    "algoritmo.predict_proba(Xt)[:10] # da el resultado en probabilidades, cada fila suma el 100%"
   ]
  },
  {
   "cell_type": "code",
   "execution_count": 15,
   "metadata": {},
   "outputs": [
    {
     "data": {
      "text/plain": [
       "array([0, 2, 1, 0, 2, 2, 0, 1, 0, 0])"
      ]
     },
     "execution_count": 15,
     "metadata": {},
     "output_type": "execute_result"
    }
   ],
   "source": [
    "algoritmo.predict(Xt)[:10] # algoritmo predict para ver como va a predecir, primeros 10 elementos"
   ]
  },
  {
   "cell_type": "code",
   "execution_count": null,
   "metadata": {},
   "outputs": [],
   "source": []
  }
 ],
 "metadata": {
  "kernelspec": {
   "display_name": "Python 3",
   "language": "python",
   "name": "python3"
  },
  "language_info": {
   "codemirror_mode": {
    "name": "ipython",
    "version": 3
   },
   "file_extension": ".py",
   "mimetype": "text/x-python",
   "name": "python",
   "nbconvert_exporter": "python",
   "pygments_lexer": "ipython3",
   "version": "3.7.3"
  }
 },
 "nbformat": 4,
 "nbformat_minor": 2
}
